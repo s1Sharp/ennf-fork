{
 "cells": [
  {
   "cell_type": "code",
   "execution_count": null,
   "outputs": [],
   "source": [
    "%matplotlib inline"
   ],
   "metadata": {
    "collapsed": false,
    "pycharm": {
     "name": "#%%\n",
     "is_executing": true
    }
   }
  },
  {
   "cell_type": "code",
   "execution_count": null,
   "outputs": [],
   "source": [
    "from nn_lib.mdl.loss_functions import CELoss, BCELoss_logits\n",
    "from nn_lib.optim import Adam, Optimizer\n",
    "from nn_lib.data import Dataloader\n",
    "\n",
    "from toy_mlp.toy_segmentation.model_trainer import UNetTrainer\n",
    "from toy_mlp.mnist_classifier.mnist_mlp_classifier import MnistMLPClassifier\n",
    "from toy_mlp.toy_segmentation.unet import UNet\n",
    "from toy_mlp.toy_segmentation.small_unet import SmallUNet\n",
    "from toy_mlp.toy_segmentation.small_unet_1 import SmallUNet1\n",
    "from toy_mlp.history_plotter import plot_loss\n",
    "from toy_mlp.toy_segmentation.PH2_dataset import PH2"
   ],
   "metadata": {
    "collapsed": false,
    "pycharm": {
     "name": "#%%\n"
    }
   }
  },
  {
   "cell_type": "code",
   "execution_count": null,
   "outputs": [],
   "source": [],
   "metadata": {
    "collapsed": false,
    "pycharm": {
     "name": "#%%\n"
    }
   }
  }
 ],
 "metadata": {
  "kernelspec": {
   "display_name": "Python 3",
   "language": "python",
   "name": "python3"
  },
  "language_info": {
   "codemirror_mode": {
    "name": "ipython",
    "version": 2
   },
   "file_extension": ".py",
   "mimetype": "text/x-python",
   "name": "python",
   "nbconvert_exporter": "python",
   "pygments_lexer": "ipython2",
   "version": "2.7.6"
  }
 },
 "nbformat": 4,
 "nbformat_minor": 0
}